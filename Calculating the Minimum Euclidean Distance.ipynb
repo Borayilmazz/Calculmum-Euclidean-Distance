{
 "cells": [
  {
   "cell_type": "code",
   "execution_count": 5,
   "id": "cd07a8ee",
   "metadata": {},
   "outputs": [
    {
     "name": "stdout",
     "output_type": "stream",
     "text": [
      "Distances: [2.8284271247461903, 5.656854249492381, 8.48528137423857, 2.8284271247461903, 5.656854249492381, 2.8284271247461903]\n",
      "Minimum distance: 2.8284271247461903\n"
     ]
    }
   ],
   "source": [
    "import math\n",
    "\n",
    "# Defining the points\n",
    "points = [(1, 2), (3, 4), (5, 6), (7, 8)]\n",
    "\n",
    "# function for a euclidean distance\n",
    "def euclideanDistance(point1, point2):\n",
    "    return math.sqrt((point1[0] - point2[0]) ** 2 + (point1[1] - point2[1]) ** 2)\n",
    "\n",
    "# Calculating the distances\n",
    "distances = []\n",
    "for i in range(len(points)):\n",
    "    for j in range(i + 1, len(points)):\n",
    "        dist = euclideanDistance(points[i], points[j])\n",
    "        distances.append(dist)\n",
    "\n",
    "# Find a minimum distance\n",
    "min_distance = min(distances)\n",
    "\n",
    "# Print the results\n",
    "print(\"Distances:\", distances)\n",
    "print(\"Minimum distance:\", min_distance)"
   ]
  },
  {
   "cell_type": "code",
   "execution_count": null,
   "id": "0753b2a8",
   "metadata": {},
   "outputs": [],
   "source": []
  }
 ],
 "metadata": {
  "kernelspec": {
   "display_name": "Python 3 (ipykernel)",
   "language": "python",
   "name": "python3"
  },
  "language_info": {
   "codemirror_mode": {
    "name": "ipython",
    "version": 3
   },
   "file_extension": ".py",
   "mimetype": "text/x-python",
   "name": "python",
   "nbconvert_exporter": "python",
   "pygments_lexer": "ipython3",
   "version": "3.10.9"
  }
 },
 "nbformat": 4,
 "nbformat_minor": 5
}
